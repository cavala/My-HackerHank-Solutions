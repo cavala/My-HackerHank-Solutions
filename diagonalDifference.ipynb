{
 "cells": [
  {
   "cell_type": "code",
   "execution_count": 1,
   "id": "083f8b20",
   "metadata": {},
   "outputs": [],
   "source": [
    "#!/bin/python3\n",
    "\n",
    "import math\n",
    "import os\n",
    "import random\n",
    "import re\n",
    "import sys\n",
    "#\n",
    "# Complete the 'diagonalDifference' function below.\n",
    "#\n",
    "# The function is expected to return an INTEGER.\n",
    "# The function accepts 2D_INTEGER_ARRAY arr as parameter.\n",
    "#\n",
    "\n",
    "   "
   ]
  },
  {
   "cell_type": "code",
   "execution_count": 2,
   "id": "95ebc8d5",
   "metadata": {},
   "outputs": [],
   "source": [
    "def miniMaxSum(arr):\n",
    "    nMin = 100000\n",
    "    nMax = -100000\n",
    "    n = 0\n",
    "    for i in arr:\n",
    "        soma = 0            \n",
    "        for j in range(0, len(arr)):\n",
    "            if (j != n): \n",
    "                soma += arr[j]\n",
    "                \n",
    "        if soma > nMax:\n",
    "            nMax = soma\n",
    "        if soma < nMin:\n",
    "            nMin = soma\n",
    "        n += 1\n",
    "            \n",
    "    return(str(nMin) + ' ' + str(nMax))"
   ]
  },
  {
   "cell_type": "code",
   "execution_count": 7,
   "id": "0e7c65a6",
   "metadata": {},
   "outputs": [],
   "source": [
    "arr = [7,69,2,221,8974]"
   ]
  },
  {
   "cell_type": "code",
   "execution_count": 8,
   "id": "15efd730",
   "metadata": {},
   "outputs": [
    {
     "data": {
      "text/plain": [
       "'299 9271'"
      ]
     },
     "execution_count": 8,
     "metadata": {},
     "output_type": "execute_result"
    }
   ],
   "source": [
    "miniMaxSum(arr)"
   ]
  },
  {
   "cell_type": "code",
   "execution_count": 10,
   "id": "9ba2f292",
   "metadata": {},
   "outputs": [
    {
     "data": {
      "text/plain": [
       "1"
      ]
     },
     "execution_count": 10,
     "metadata": {},
     "output_type": "execute_result"
    }
   ],
   "source": [
    "arr[0]"
   ]
  },
  {
   "cell_type": "code",
   "execution_count": 12,
   "id": "34fe9deb",
   "metadata": {},
   "outputs": [
    {
     "data": {
      "text/plain": [
       "5"
      ]
     },
     "execution_count": 12,
     "metadata": {},
     "output_type": "execute_result"
    }
   ],
   "source": [
    "arr[4]"
   ]
  },
  {
   "cell_type": "code",
   "execution_count": 7,
   "id": "902b0b2e",
   "metadata": {},
   "outputs": [
    {
     "name": "stdout",
     "output_type": "stream",
     "text": [
      "1\n",
      "3\n",
      "5\n",
      "7\n",
      "9\n"
     ]
    }
   ],
   "source": [
    "for j in range(0, len(arr)):\n",
    "    print(arr[j])"
   ]
  },
  {
   "cell_type": "code",
   "execution_count": null,
   "id": "31589de5",
   "metadata": {},
   "outputs": [],
   "source": []
  }
 ],
 "metadata": {
  "kernelspec": {
   "display_name": "Python 3",
   "language": "python",
   "name": "python3"
  },
  "language_info": {
   "codemirror_mode": {
    "name": "ipython",
    "version": 3
   },
   "file_extension": ".py",
   "mimetype": "text/x-python",
   "name": "python",
   "nbconvert_exporter": "python",
   "pygments_lexer": "ipython3",
   "version": "3.8.8"
  }
 },
 "nbformat": 4,
 "nbformat_minor": 5
}
